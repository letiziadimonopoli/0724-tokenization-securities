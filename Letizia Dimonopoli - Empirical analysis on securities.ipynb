{
 "cells": [
  {
   "cell_type": "markdown",
   "id": "e18b98fe",
   "metadata": {},
   "source": [
    "# Empirical analysis on securities\n",
    "## By Letizia Dimonopoli\n",
    "### Student ID: 3132775"
   ]
  },
  {
   "cell_type": "code",
   "execution_count": 2,
   "id": "a674e65d",
   "metadata": {},
   "outputs": [],
   "source": [
    "import numpy as np\n",
    "import pandas as pd\n",
    "import matplotlib.pyplot as plt\n",
    "import scipy.stats as stats\n",
    "from sklearn.model_selection import train_test_split\n",
    "from sklearn.linear_model import LinearRegression\n",
    "from sklearn import metrics\n",
    "from sklearn.metrics import mean_squared_error\n",
    "from sklearn.metrics import r2_score\n",
    "from sklearn.model_selection import GridSearchCV\n",
    "from sklearn.ensemble import RandomForestRegressor\n",
    "from sklearn.ensemble import GradientBoostingRegressor\n",
    "import statsmodels.api as sm\n",
    "from tabulate import tabulate"
   ]
  },
  {
   "cell_type": "code",
   "execution_count": 114,
   "id": "111572ca",
   "metadata": {},
   "outputs": [
    {
     "data": {
      "text/html": [
       "<div>\n",
       "<style scoped>\n",
       "    .dataframe tbody tr th:only-of-type {\n",
       "        vertical-align: middle;\n",
       "    }\n",
       "\n",
       "    .dataframe tbody tr th {\n",
       "        vertical-align: top;\n",
       "    }\n",
       "\n",
       "    .dataframe thead th {\n",
       "        text-align: right;\n",
       "    }\n",
       "</style>\n",
       "<table border=\"1\" class=\"dataframe\">\n",
       "  <thead>\n",
       "    <tr style=\"text-align: right;\">\n",
       "      <th></th>\n",
       "      <th>Date</th>\n",
       "      <th>Open</th>\n",
       "      <th>High</th>\n",
       "      <th>Low</th>\n",
       "      <th>Close</th>\n",
       "      <th>Adj Close</th>\n",
       "      <th>Volume</th>\n",
       "    </tr>\n",
       "  </thead>\n",
       "  <tbody>\n",
       "    <tr>\n",
       "      <th>0</th>\n",
       "      <td>1999-01-22</td>\n",
       "      <td>0.437500</td>\n",
       "      <td>0.488281</td>\n",
       "      <td>0.388021</td>\n",
       "      <td>0.410156</td>\n",
       "      <td>0.376358</td>\n",
       "      <td>271468800</td>\n",
       "    </tr>\n",
       "    <tr>\n",
       "      <th>1</th>\n",
       "      <td>1999-01-25</td>\n",
       "      <td>0.442708</td>\n",
       "      <td>0.458333</td>\n",
       "      <td>0.410156</td>\n",
       "      <td>0.453125</td>\n",
       "      <td>0.415786</td>\n",
       "      <td>51048000</td>\n",
       "    </tr>\n",
       "    <tr>\n",
       "      <th>2</th>\n",
       "      <td>1999-01-26</td>\n",
       "      <td>0.458333</td>\n",
       "      <td>0.467448</td>\n",
       "      <td>0.411458</td>\n",
       "      <td>0.417969</td>\n",
       "      <td>0.383527</td>\n",
       "      <td>34320000</td>\n",
       "    </tr>\n",
       "    <tr>\n",
       "      <th>3</th>\n",
       "      <td>1999-01-27</td>\n",
       "      <td>0.419271</td>\n",
       "      <td>0.429688</td>\n",
       "      <td>0.395833</td>\n",
       "      <td>0.416667</td>\n",
       "      <td>0.382332</td>\n",
       "      <td>24436800</td>\n",
       "    </tr>\n",
       "    <tr>\n",
       "      <th>4</th>\n",
       "      <td>1999-01-28</td>\n",
       "      <td>0.416667</td>\n",
       "      <td>0.419271</td>\n",
       "      <td>0.412760</td>\n",
       "      <td>0.415365</td>\n",
       "      <td>0.381137</td>\n",
       "      <td>22752000</td>\n",
       "    </tr>\n",
       "  </tbody>\n",
       "</table>\n",
       "</div>"
      ],
      "text/plain": [
       "         Date      Open      High       Low     Close  Adj Close     Volume\n",
       "0  1999-01-22  0.437500  0.488281  0.388021  0.410156   0.376358  271468800\n",
       "1  1999-01-25  0.442708  0.458333  0.410156  0.453125   0.415786   51048000\n",
       "2  1999-01-26  0.458333  0.467448  0.411458  0.417969   0.383527   34320000\n",
       "3  1999-01-27  0.419271  0.429688  0.395833  0.416667   0.382332   24436800\n",
       "4  1999-01-28  0.416667  0.419271  0.412760  0.415365   0.381137   22752000"
      ]
     },
     "execution_count": 114,
     "metadata": {},
     "output_type": "execute_result"
    }
   ],
   "source": [
    "# uploading the Nvidia dataset\n",
    "df_train = pd.read_csv(\"/Users/dimonopoli/Desktop/final paper/NVDA.csv\")\n",
    "df_train.head()"
   ]
  },
  {
   "cell_type": "code",
   "execution_count": 115,
   "id": "63706486",
   "metadata": {},
   "outputs": [
    {
     "data": {
      "text/html": [
       "<div>\n",
       "<style scoped>\n",
       "    .dataframe tbody tr th:only-of-type {\n",
       "        vertical-align: middle;\n",
       "    }\n",
       "\n",
       "    .dataframe tbody tr th {\n",
       "        vertical-align: top;\n",
       "    }\n",
       "\n",
       "    .dataframe thead th {\n",
       "        text-align: right;\n",
       "    }\n",
       "</style>\n",
       "<table border=\"1\" class=\"dataframe\">\n",
       "  <thead>\n",
       "    <tr style=\"text-align: right;\">\n",
       "      <th></th>\n",
       "      <th>Date</th>\n",
       "      <th>Open</th>\n",
       "      <th>High</th>\n",
       "      <th>Low</th>\n",
       "      <th>Close</th>\n",
       "      <th>Adj Close</th>\n",
       "      <th>Volume</th>\n",
       "    </tr>\n",
       "  </thead>\n",
       "  <tbody>\n",
       "    <tr>\n",
       "      <th>0</th>\n",
       "      <td>2017-11-09</td>\n",
       "      <td>1.01087</td>\n",
       "      <td>1.01327</td>\n",
       "      <td>0.996515</td>\n",
       "      <td>1.00818</td>\n",
       "      <td>1.00818</td>\n",
       "      <td>358188000</td>\n",
       "    </tr>\n",
       "    <tr>\n",
       "      <th>1</th>\n",
       "      <td>2017-11-10</td>\n",
       "      <td>1.00650</td>\n",
       "      <td>1.02423</td>\n",
       "      <td>0.995486</td>\n",
       "      <td>1.00601</td>\n",
       "      <td>1.00601</td>\n",
       "      <td>756446016</td>\n",
       "    </tr>\n",
       "    <tr>\n",
       "      <th>2</th>\n",
       "      <td>2017-11-11</td>\n",
       "      <td>1.00598</td>\n",
       "      <td>1.02621</td>\n",
       "      <td>0.995799</td>\n",
       "      <td>1.00899</td>\n",
       "      <td>1.00899</td>\n",
       "      <td>746227968</td>\n",
       "    </tr>\n",
       "    <tr>\n",
       "      <th>3</th>\n",
       "      <td>2017-11-12</td>\n",
       "      <td>1.00602</td>\n",
       "      <td>1.10591</td>\n",
       "      <td>0.967601</td>\n",
       "      <td>1.01247</td>\n",
       "      <td>1.01247</td>\n",
       "      <td>1466060032</td>\n",
       "    </tr>\n",
       "    <tr>\n",
       "      <th>4</th>\n",
       "      <td>2017-11-13</td>\n",
       "      <td>1.00448</td>\n",
       "      <td>1.02929</td>\n",
       "      <td>0.975103</td>\n",
       "      <td>1.00935</td>\n",
       "      <td>1.00935</td>\n",
       "      <td>767884032</td>\n",
       "    </tr>\n",
       "  </tbody>\n",
       "</table>\n",
       "</div>"
      ],
      "text/plain": [
       "         Date     Open     High       Low    Close  Adj Close      Volume\n",
       "0  2017-11-09  1.01087  1.01327  0.996515  1.00818    1.00818   358188000\n",
       "1  2017-11-10  1.00650  1.02423  0.995486  1.00601    1.00601   756446016\n",
       "2  2017-11-11  1.00598  1.02621  0.995799  1.00899    1.00899   746227968\n",
       "3  2017-11-12  1.00602  1.10591  0.967601  1.01247    1.01247  1466060032\n",
       "4  2017-11-13  1.00448  1.02929  0.975103  1.00935    1.00935   767884032"
      ]
     },
     "execution_count": 115,
     "metadata": {},
     "output_type": "execute_result"
    }
   ],
   "source": [
    "# uploading the Tether dataset\n",
    "df_tok_assets = pd.read_csv(\"/Users/dimonopoli/Desktop/final paper/USDT-USD.csv\")\n",
    "df_tok_assets.head()"
   ]
  },
  {
   "cell_type": "markdown",
   "id": "6bfff192",
   "metadata": {},
   "source": [
    "### 1. Cleaning and preparation of the Nvidia and Tether datasets\n",
    "\n",
    "For the Nvidia dataset"
   ]
  },
  {
   "cell_type": "code",
   "execution_count": 116,
   "id": "a31fd27a",
   "metadata": {},
   "outputs": [
    {
     "data": {
      "text/html": [
       "<div>\n",
       "<style scoped>\n",
       "    .dataframe tbody tr th:only-of-type {\n",
       "        vertical-align: middle;\n",
       "    }\n",
       "\n",
       "    .dataframe tbody tr th {\n",
       "        vertical-align: top;\n",
       "    }\n",
       "\n",
       "    .dataframe thead th {\n",
       "        text-align: right;\n",
       "    }\n",
       "</style>\n",
       "<table border=\"1\" class=\"dataframe\">\n",
       "  <thead>\n",
       "    <tr style=\"text-align: right;\">\n",
       "      <th></th>\n",
       "      <th>Open</th>\n",
       "      <th>High</th>\n",
       "      <th>Low</th>\n",
       "      <th>Close</th>\n",
       "      <th>Adj Close</th>\n",
       "      <th>Volume</th>\n",
       "    </tr>\n",
       "  </thead>\n",
       "  <tbody>\n",
       "    <tr>\n",
       "      <th>count</th>\n",
       "      <td>6122.000000</td>\n",
       "      <td>6122.000000</td>\n",
       "      <td>6122.000000</td>\n",
       "      <td>6122.000000</td>\n",
       "      <td>6122.000000</td>\n",
       "      <td>6.122000e+03</td>\n",
       "    </tr>\n",
       "    <tr>\n",
       "      <th>mean</th>\n",
       "      <td>32.083172</td>\n",
       "      <td>32.698178</td>\n",
       "      <td>31.452291</td>\n",
       "      <td>32.105539</td>\n",
       "      <td>31.846044</td>\n",
       "      <td>6.128430e+07</td>\n",
       "    </tr>\n",
       "    <tr>\n",
       "      <th>std</th>\n",
       "      <td>61.979191</td>\n",
       "      <td>63.229129</td>\n",
       "      <td>60.681098</td>\n",
       "      <td>62.022923</td>\n",
       "      <td>62.028533</td>\n",
       "      <td>4.400809e+07</td>\n",
       "    </tr>\n",
       "    <tr>\n",
       "      <th>min</th>\n",
       "      <td>0.348958</td>\n",
       "      <td>0.355469</td>\n",
       "      <td>0.333333</td>\n",
       "      <td>0.341146</td>\n",
       "      <td>0.313034</td>\n",
       "      <td>1.968000e+06</td>\n",
       "    </tr>\n",
       "    <tr>\n",
       "      <th>25%</th>\n",
       "      <td>2.677500</td>\n",
       "      <td>2.758750</td>\n",
       "      <td>2.603333</td>\n",
       "      <td>2.677500</td>\n",
       "      <td>2.456865</td>\n",
       "      <td>3.438680e+07</td>\n",
       "    </tr>\n",
       "    <tr>\n",
       "      <th>50%</th>\n",
       "      <td>4.320000</td>\n",
       "      <td>4.412500</td>\n",
       "      <td>4.245000</td>\n",
       "      <td>4.335000</td>\n",
       "      <td>3.981222</td>\n",
       "      <td>5.138220e+07</td>\n",
       "    </tr>\n",
       "    <tr>\n",
       "      <th>75%</th>\n",
       "      <td>27.708750</td>\n",
       "      <td>27.966875</td>\n",
       "      <td>27.088750</td>\n",
       "      <td>27.643750</td>\n",
       "      <td>27.279851</td>\n",
       "      <td>7.457340e+07</td>\n",
       "    </tr>\n",
       "    <tr>\n",
       "      <th>max</th>\n",
       "      <td>335.170013</td>\n",
       "      <td>346.470001</td>\n",
       "      <td>320.359985</td>\n",
       "      <td>333.760010</td>\n",
       "      <td>333.350800</td>\n",
       "      <td>9.230856e+08</td>\n",
       "    </tr>\n",
       "  </tbody>\n",
       "</table>\n",
       "</div>"
      ],
      "text/plain": [
       "              Open         High          Low        Close    Adj Close  \\\n",
       "count  6122.000000  6122.000000  6122.000000  6122.000000  6122.000000   \n",
       "mean     32.083172    32.698178    31.452291    32.105539    31.846044   \n",
       "std      61.979191    63.229129    60.681098    62.022923    62.028533   \n",
       "min       0.348958     0.355469     0.333333     0.341146     0.313034   \n",
       "25%       2.677500     2.758750     2.603333     2.677500     2.456865   \n",
       "50%       4.320000     4.412500     4.245000     4.335000     3.981222   \n",
       "75%      27.708750    27.966875    27.088750    27.643750    27.279851   \n",
       "max     335.170013   346.470001   320.359985   333.760010   333.350800   \n",
       "\n",
       "             Volume  \n",
       "count  6.122000e+03  \n",
       "mean   6.128430e+07  \n",
       "std    4.400809e+07  \n",
       "min    1.968000e+06  \n",
       "25%    3.438680e+07  \n",
       "50%    5.138220e+07  \n",
       "75%    7.457340e+07  \n",
       "max    9.230856e+08  "
      ]
     },
     "execution_count": 116,
     "metadata": {},
     "output_type": "execute_result"
    }
   ],
   "source": [
    "df_train.describe()"
   ]
  },
  {
   "cell_type": "code",
   "execution_count": 117,
   "id": "6d90887a",
   "metadata": {},
   "outputs": [
    {
     "data": {
      "text/html": [
       "<div>\n",
       "<style scoped>\n",
       "    .dataframe tbody tr th:only-of-type {\n",
       "        vertical-align: middle;\n",
       "    }\n",
       "\n",
       "    .dataframe tbody tr th {\n",
       "        vertical-align: top;\n",
       "    }\n",
       "\n",
       "    .dataframe thead th {\n",
       "        text-align: right;\n",
       "    }\n",
       "</style>\n",
       "<table border=\"1\" class=\"dataframe\">\n",
       "  <thead>\n",
       "    <tr style=\"text-align: right;\">\n",
       "      <th></th>\n",
       "      <th>Total</th>\n",
       "      <th>Percent</th>\n",
       "    </tr>\n",
       "  </thead>\n",
       "  <tbody>\n",
       "    <tr>\n",
       "      <th>Date</th>\n",
       "      <td>0</td>\n",
       "      <td>0.0</td>\n",
       "    </tr>\n",
       "    <tr>\n",
       "      <th>Open</th>\n",
       "      <td>0</td>\n",
       "      <td>0.0</td>\n",
       "    </tr>\n",
       "    <tr>\n",
       "      <th>High</th>\n",
       "      <td>0</td>\n",
       "      <td>0.0</td>\n",
       "    </tr>\n",
       "    <tr>\n",
       "      <th>Low</th>\n",
       "      <td>0</td>\n",
       "      <td>0.0</td>\n",
       "    </tr>\n",
       "    <tr>\n",
       "      <th>Close</th>\n",
       "      <td>0</td>\n",
       "      <td>0.0</td>\n",
       "    </tr>\n",
       "    <tr>\n",
       "      <th>Adj Close</th>\n",
       "      <td>0</td>\n",
       "      <td>0.0</td>\n",
       "    </tr>\n",
       "    <tr>\n",
       "      <th>Volume</th>\n",
       "      <td>0</td>\n",
       "      <td>0.0</td>\n",
       "    </tr>\n",
       "  </tbody>\n",
       "</table>\n",
       "</div>"
      ],
      "text/plain": [
       "           Total  Percent\n",
       "Date           0      0.0\n",
       "Open           0      0.0\n",
       "High           0      0.0\n",
       "Low            0      0.0\n",
       "Close          0      0.0\n",
       "Adj Close      0      0.0\n",
       "Volume         0      0.0"
      ]
     },
     "execution_count": 117,
     "metadata": {},
     "output_type": "execute_result"
    }
   ],
   "source": [
    "# missing data Nvidia\n",
    "total_train = df_train.isnull().sum().sort_values(ascending=False)\n",
    "percent_train = (df_train.isnull().sum()/df_train.isnull().count()).sort_values(ascending=False)\n",
    "missing_data_train = pd.concat([total_train, percent_train], axis=1, keys=[\"Total\", \"Percent\"])\n",
    "missing_data_train"
   ]
  },
  {
   "cell_type": "markdown",
   "id": "08965277",
   "metadata": {},
   "source": [
    "For Tether dataset"
   ]
  },
  {
   "cell_type": "code",
   "execution_count": 118,
   "id": "82b3f6de",
   "metadata": {},
   "outputs": [
    {
     "data": {
      "text/html": [
       "<div>\n",
       "<style scoped>\n",
       "    .dataframe tbody tr th:only-of-type {\n",
       "        vertical-align: middle;\n",
       "    }\n",
       "\n",
       "    .dataframe tbody tr th {\n",
       "        vertical-align: top;\n",
       "    }\n",
       "\n",
       "    .dataframe thead th {\n",
       "        text-align: right;\n",
       "    }\n",
       "</style>\n",
       "<table border=\"1\" class=\"dataframe\">\n",
       "  <thead>\n",
       "    <tr style=\"text-align: right;\">\n",
       "      <th></th>\n",
       "      <th>Open</th>\n",
       "      <th>High</th>\n",
       "      <th>Low</th>\n",
       "      <th>Close</th>\n",
       "      <th>Adj Close</th>\n",
       "      <th>Volume</th>\n",
       "    </tr>\n",
       "  </thead>\n",
       "  <tbody>\n",
       "    <tr>\n",
       "      <th>count</th>\n",
       "      <td>1658.000000</td>\n",
       "      <td>1658.000000</td>\n",
       "      <td>1658.000000</td>\n",
       "      <td>1658.000000</td>\n",
       "      <td>1658.000000</td>\n",
       "      <td>1.658000e+03</td>\n",
       "    </tr>\n",
       "    <tr>\n",
       "      <th>mean</th>\n",
       "      <td>1.001815</td>\n",
       "      <td>1.008433</td>\n",
       "      <td>0.996067</td>\n",
       "      <td>1.001816</td>\n",
       "      <td>1.001816</td>\n",
       "      <td>4.039061e+10</td>\n",
       "    </tr>\n",
       "    <tr>\n",
       "      <th>std</th>\n",
       "      <td>0.006087</td>\n",
       "      <td>0.010536</td>\n",
       "      <td>0.008294</td>\n",
       "      <td>0.006034</td>\n",
       "      <td>0.006034</td>\n",
       "      <td>3.979689e+10</td>\n",
       "    </tr>\n",
       "    <tr>\n",
       "      <th>min</th>\n",
       "      <td>0.972522</td>\n",
       "      <td>0.978690</td>\n",
       "      <td>0.899490</td>\n",
       "      <td>0.966644</td>\n",
       "      <td>0.966644</td>\n",
       "      <td>3.581880e+08</td>\n",
       "    </tr>\n",
       "    <tr>\n",
       "      <th>25%</th>\n",
       "      <td>1.000041</td>\n",
       "      <td>1.001122</td>\n",
       "      <td>0.993818</td>\n",
       "      <td>1.000043</td>\n",
       "      <td>1.000043</td>\n",
       "      <td>4.279052e+09</td>\n",
       "    </tr>\n",
       "    <tr>\n",
       "      <th>50%</th>\n",
       "      <td>1.000714</td>\n",
       "      <td>1.006298</td>\n",
       "      <td>0.998211</td>\n",
       "      <td>1.000668</td>\n",
       "      <td>1.000668</td>\n",
       "      <td>3.027514e+10</td>\n",
       "    </tr>\n",
       "    <tr>\n",
       "      <th>75%</th>\n",
       "      <td>1.003138</td>\n",
       "      <td>1.012296</td>\n",
       "      <td>1.000029</td>\n",
       "      <td>1.002973</td>\n",
       "      <td>1.002973</td>\n",
       "      <td>6.100956e+10</td>\n",
       "    </tr>\n",
       "    <tr>\n",
       "      <th>max</th>\n",
       "      <td>1.080950</td>\n",
       "      <td>1.105910</td>\n",
       "      <td>1.021830</td>\n",
       "      <td>1.077880</td>\n",
       "      <td>1.077880</td>\n",
       "      <td>2.790675e+11</td>\n",
       "    </tr>\n",
       "  </tbody>\n",
       "</table>\n",
       "</div>"
      ],
      "text/plain": [
       "              Open         High          Low        Close    Adj Close  \\\n",
       "count  1658.000000  1658.000000  1658.000000  1658.000000  1658.000000   \n",
       "mean      1.001815     1.008433     0.996067     1.001816     1.001816   \n",
       "std       0.006087     0.010536     0.008294     0.006034     0.006034   \n",
       "min       0.972522     0.978690     0.899490     0.966644     0.966644   \n",
       "25%       1.000041     1.001122     0.993818     1.000043     1.000043   \n",
       "50%       1.000714     1.006298     0.998211     1.000668     1.000668   \n",
       "75%       1.003138     1.012296     1.000029     1.002973     1.002973   \n",
       "max       1.080950     1.105910     1.021830     1.077880     1.077880   \n",
       "\n",
       "             Volume  \n",
       "count  1.658000e+03  \n",
       "mean   4.039061e+10  \n",
       "std    3.979689e+10  \n",
       "min    3.581880e+08  \n",
       "25%    4.279052e+09  \n",
       "50%    3.027514e+10  \n",
       "75%    6.100956e+10  \n",
       "max    2.790675e+11  "
      ]
     },
     "execution_count": 118,
     "metadata": {},
     "output_type": "execute_result"
    }
   ],
   "source": [
    "df_tok_assets.describe()"
   ]
  },
  {
   "cell_type": "code",
   "execution_count": 119,
   "id": "a02c9afc",
   "metadata": {},
   "outputs": [
    {
     "data": {
      "text/html": [
       "<div>\n",
       "<style scoped>\n",
       "    .dataframe tbody tr th:only-of-type {\n",
       "        vertical-align: middle;\n",
       "    }\n",
       "\n",
       "    .dataframe tbody tr th {\n",
       "        vertical-align: top;\n",
       "    }\n",
       "\n",
       "    .dataframe thead th {\n",
       "        text-align: right;\n",
       "    }\n",
       "</style>\n",
       "<table border=\"1\" class=\"dataframe\">\n",
       "  <thead>\n",
       "    <tr style=\"text-align: right;\">\n",
       "      <th></th>\n",
       "      <th>Total</th>\n",
       "      <th>Percent</th>\n",
       "    </tr>\n",
       "  </thead>\n",
       "  <tbody>\n",
       "    <tr>\n",
       "      <th>Date</th>\n",
       "      <td>0</td>\n",
       "      <td>0.0</td>\n",
       "    </tr>\n",
       "    <tr>\n",
       "      <th>Open</th>\n",
       "      <td>0</td>\n",
       "      <td>0.0</td>\n",
       "    </tr>\n",
       "    <tr>\n",
       "      <th>High</th>\n",
       "      <td>0</td>\n",
       "      <td>0.0</td>\n",
       "    </tr>\n",
       "    <tr>\n",
       "      <th>Low</th>\n",
       "      <td>0</td>\n",
       "      <td>0.0</td>\n",
       "    </tr>\n",
       "    <tr>\n",
       "      <th>Close</th>\n",
       "      <td>0</td>\n",
       "      <td>0.0</td>\n",
       "    </tr>\n",
       "    <tr>\n",
       "      <th>Adj Close</th>\n",
       "      <td>0</td>\n",
       "      <td>0.0</td>\n",
       "    </tr>\n",
       "    <tr>\n",
       "      <th>Volume</th>\n",
       "      <td>0</td>\n",
       "      <td>0.0</td>\n",
       "    </tr>\n",
       "  </tbody>\n",
       "</table>\n",
       "</div>"
      ],
      "text/plain": [
       "           Total  Percent\n",
       "Date           0      0.0\n",
       "Open           0      0.0\n",
       "High           0      0.0\n",
       "Low            0      0.0\n",
       "Close          0      0.0\n",
       "Adj Close      0      0.0\n",
       "Volume         0      0.0"
      ]
     },
     "execution_count": 119,
     "metadata": {},
     "output_type": "execute_result"
    }
   ],
   "source": [
    "# missing data Tether\n",
    "total_train = df_tok_assets.isnull().sum().sort_values(ascending=False)\n",
    "percent_train = (df_tok_assets.isnull().sum()/df_tok_assets.isnull().count()).sort_values(ascending=False)\n",
    "missing_data_train = pd.concat([total_train, percent_train], axis=1, keys=[\"Total\", \"Percent\"])\n",
    "missing_data_train"
   ]
  },
  {
   "cell_type": "markdown",
   "id": "7f7cb9bf",
   "metadata": {},
   "source": [
    "The dataset presents no missing data, which is advantageous for the analysis.\n",
    "\n",
    "Now we merge the datasets:"
   ]
  },
  {
   "cell_type": "code",
   "execution_count": 120,
   "id": "06b706f8",
   "metadata": {},
   "outputs": [],
   "source": [
    "# since the Tether dataset is smaller, I will only consider the dates of that dataset even for the stocks dataset\n",
    "df_train_new = df_train[(df_train[\"Date\"] >= \"2017-11-09\") & (df_train[\"Date\"] <= \"2022-05-24\")]"
   ]
  },
  {
   "cell_type": "code",
   "execution_count": 121,
   "id": "6957818d",
   "metadata": {},
   "outputs": [
    {
     "data": {
      "text/html": [
       "<div>\n",
       "<style scoped>\n",
       "    .dataframe tbody tr th:only-of-type {\n",
       "        vertical-align: middle;\n",
       "    }\n",
       "\n",
       "    .dataframe tbody tr th {\n",
       "        vertical-align: top;\n",
       "    }\n",
       "\n",
       "    .dataframe thead th {\n",
       "        text-align: right;\n",
       "    }\n",
       "</style>\n",
       "<table border=\"1\" class=\"dataframe\">\n",
       "  <thead>\n",
       "    <tr style=\"text-align: right;\">\n",
       "      <th></th>\n",
       "      <th>Date</th>\n",
       "      <th>Open</th>\n",
       "      <th>High</th>\n",
       "      <th>Low</th>\n",
       "      <th>Close</th>\n",
       "      <th>Adj Close</th>\n",
       "      <th>Volume</th>\n",
       "    </tr>\n",
       "  </thead>\n",
       "  <tbody>\n",
       "    <tr>\n",
       "      <th>0</th>\n",
       "      <td>2017-11-09</td>\n",
       "      <td>1.01087</td>\n",
       "      <td>1.01327</td>\n",
       "      <td>0.996515</td>\n",
       "      <td>1.00818</td>\n",
       "      <td>1.00818</td>\n",
       "      <td>358188000</td>\n",
       "    </tr>\n",
       "    <tr>\n",
       "      <th>1</th>\n",
       "      <td>2017-11-10</td>\n",
       "      <td>1.00650</td>\n",
       "      <td>1.02423</td>\n",
       "      <td>0.995486</td>\n",
       "      <td>1.00601</td>\n",
       "      <td>1.00601</td>\n",
       "      <td>756446016</td>\n",
       "    </tr>\n",
       "    <tr>\n",
       "      <th>2</th>\n",
       "      <td>2017-11-11</td>\n",
       "      <td>1.00598</td>\n",
       "      <td>1.02621</td>\n",
       "      <td>0.995799</td>\n",
       "      <td>1.00899</td>\n",
       "      <td>1.00899</td>\n",
       "      <td>746227968</td>\n",
       "    </tr>\n",
       "    <tr>\n",
       "      <th>3</th>\n",
       "      <td>2017-11-12</td>\n",
       "      <td>1.00602</td>\n",
       "      <td>1.10591</td>\n",
       "      <td>0.967601</td>\n",
       "      <td>1.01247</td>\n",
       "      <td>1.01247</td>\n",
       "      <td>1466060032</td>\n",
       "    </tr>\n",
       "    <tr>\n",
       "      <th>4</th>\n",
       "      <td>2017-11-13</td>\n",
       "      <td>1.00448</td>\n",
       "      <td>1.02929</td>\n",
       "      <td>0.975103</td>\n",
       "      <td>1.00935</td>\n",
       "      <td>1.00935</td>\n",
       "      <td>767884032</td>\n",
       "    </tr>\n",
       "  </tbody>\n",
       "</table>\n",
       "</div>"
      ],
      "text/plain": [
       "         Date     Open     High       Low    Close  Adj Close      Volume\n",
       "0  2017-11-09  1.01087  1.01327  0.996515  1.00818    1.00818   358188000\n",
       "1  2017-11-10  1.00650  1.02423  0.995486  1.00601    1.00601   756446016\n",
       "2  2017-11-11  1.00598  1.02621  0.995799  1.00899    1.00899   746227968\n",
       "3  2017-11-12  1.00602  1.10591  0.967601  1.01247    1.01247  1466060032\n",
       "4  2017-11-13  1.00448  1.02929  0.975103  1.00935    1.00935   767884032"
      ]
     },
     "execution_count": 121,
     "metadata": {},
     "output_type": "execute_result"
    }
   ],
   "source": [
    "df_tok_assets.head()"
   ]
  },
  {
   "cell_type": "code",
   "execution_count": 122,
   "id": "8e6df6ce",
   "metadata": {},
   "outputs": [
    {
     "data": {
      "text/html": [
       "<div>\n",
       "<style scoped>\n",
       "    .dataframe tbody tr th:only-of-type {\n",
       "        vertical-align: middle;\n",
       "    }\n",
       "\n",
       "    .dataframe tbody tr th {\n",
       "        vertical-align: top;\n",
       "    }\n",
       "\n",
       "    .dataframe thead th {\n",
       "        text-align: right;\n",
       "    }\n",
       "</style>\n",
       "<table border=\"1\" class=\"dataframe\">\n",
       "  <thead>\n",
       "    <tr style=\"text-align: right;\">\n",
       "      <th></th>\n",
       "      <th>Date</th>\n",
       "      <th>Open</th>\n",
       "      <th>High</th>\n",
       "      <th>Low</th>\n",
       "      <th>Close</th>\n",
       "      <th>Adj Close</th>\n",
       "      <th>Volume</th>\n",
       "    </tr>\n",
       "  </thead>\n",
       "  <tbody>\n",
       "    <tr>\n",
       "      <th>4732</th>\n",
       "      <td>2017-11-09</td>\n",
       "      <td>51.317501</td>\n",
       "      <td>51.582500</td>\n",
       "      <td>50.092499</td>\n",
       "      <td>51.330002</td>\n",
       "      <td>50.768211</td>\n",
       "      <td>97856400</td>\n",
       "    </tr>\n",
       "    <tr>\n",
       "      <th>4733</th>\n",
       "      <td>2017-11-10</td>\n",
       "      <td>53.270000</td>\n",
       "      <td>54.667500</td>\n",
       "      <td>52.907501</td>\n",
       "      <td>54.035000</td>\n",
       "      <td>53.443600</td>\n",
       "      <td>125325600</td>\n",
       "    </tr>\n",
       "    <tr>\n",
       "      <th>4734</th>\n",
       "      <td>2017-11-13</td>\n",
       "      <td>54.035000</td>\n",
       "      <td>54.292500</td>\n",
       "      <td>53.002499</td>\n",
       "      <td>53.157501</td>\n",
       "      <td>52.575703</td>\n",
       "      <td>58237600</td>\n",
       "    </tr>\n",
       "    <tr>\n",
       "      <th>4735</th>\n",
       "      <td>2017-11-14</td>\n",
       "      <td>53.250000</td>\n",
       "      <td>53.700001</td>\n",
       "      <td>52.807499</td>\n",
       "      <td>53.544998</td>\n",
       "      <td>52.958961</td>\n",
       "      <td>52929200</td>\n",
       "    </tr>\n",
       "    <tr>\n",
       "      <th>4736</th>\n",
       "      <td>2017-11-15</td>\n",
       "      <td>52.987499</td>\n",
       "      <td>53.000000</td>\n",
       "      <td>51.950001</td>\n",
       "      <td>52.494999</td>\n",
       "      <td>51.920467</td>\n",
       "      <td>50194800</td>\n",
       "    </tr>\n",
       "  </tbody>\n",
       "</table>\n",
       "</div>"
      ],
      "text/plain": [
       "            Date       Open       High        Low      Close  Adj Close  \\\n",
       "4732  2017-11-09  51.317501  51.582500  50.092499  51.330002  50.768211   \n",
       "4733  2017-11-10  53.270000  54.667500  52.907501  54.035000  53.443600   \n",
       "4734  2017-11-13  54.035000  54.292500  53.002499  53.157501  52.575703   \n",
       "4735  2017-11-14  53.250000  53.700001  52.807499  53.544998  52.958961   \n",
       "4736  2017-11-15  52.987499  53.000000  51.950001  52.494999  51.920467   \n",
       "\n",
       "         Volume  \n",
       "4732   97856400  \n",
       "4733  125325600  \n",
       "4734   58237600  \n",
       "4735   52929200  \n",
       "4736   50194800  "
      ]
     },
     "execution_count": 122,
     "metadata": {},
     "output_type": "execute_result"
    }
   ],
   "source": [
    "df_train_new.head()"
   ]
  },
  {
   "cell_type": "code",
   "execution_count": 123,
   "id": "cd8c0afc",
   "metadata": {},
   "outputs": [],
   "source": [
    "df_train_new.reset_index(inplace=True, drop=True)\n",
    "df_tok_assets.reset_index(inplace=True, drop=True)"
   ]
  },
  {
   "cell_type": "code",
   "execution_count": 124,
   "id": "d2c44396",
   "metadata": {},
   "outputs": [],
   "source": [
    "df_tok_assets.rename(columns={\"Volume\": \"Tether_Volume\"}, inplace=True)"
   ]
  },
  {
   "cell_type": "code",
   "execution_count": 125,
   "id": "1baa8c29",
   "metadata": {},
   "outputs": [],
   "source": [
    "df_merged = pd.concat([df_train_new, df_tok_assets[[\"Tether_Volume\"]]], axis=1)"
   ]
  },
  {
   "cell_type": "code",
   "execution_count": 126,
   "id": "ba79ff6f",
   "metadata": {},
   "outputs": [
    {
     "data": {
      "text/html": [
       "<div>\n",
       "<style scoped>\n",
       "    .dataframe tbody tr th:only-of-type {\n",
       "        vertical-align: middle;\n",
       "    }\n",
       "\n",
       "    .dataframe tbody tr th {\n",
       "        vertical-align: top;\n",
       "    }\n",
       "\n",
       "    .dataframe thead th {\n",
       "        text-align: right;\n",
       "    }\n",
       "</style>\n",
       "<table border=\"1\" class=\"dataframe\">\n",
       "  <thead>\n",
       "    <tr style=\"text-align: right;\">\n",
       "      <th></th>\n",
       "      <th>Date</th>\n",
       "      <th>Open</th>\n",
       "      <th>High</th>\n",
       "      <th>Low</th>\n",
       "      <th>Close</th>\n",
       "      <th>Adj Close</th>\n",
       "      <th>Volume</th>\n",
       "      <th>Tether_Volume</th>\n",
       "    </tr>\n",
       "  </thead>\n",
       "  <tbody>\n",
       "    <tr>\n",
       "      <th>0</th>\n",
       "      <td>2017-11-09</td>\n",
       "      <td>51.317501</td>\n",
       "      <td>51.582500</td>\n",
       "      <td>50.092499</td>\n",
       "      <td>51.330002</td>\n",
       "      <td>50.768211</td>\n",
       "      <td>97856400.0</td>\n",
       "      <td>358188000</td>\n",
       "    </tr>\n",
       "    <tr>\n",
       "      <th>1</th>\n",
       "      <td>2017-11-10</td>\n",
       "      <td>53.270000</td>\n",
       "      <td>54.667500</td>\n",
       "      <td>52.907501</td>\n",
       "      <td>54.035000</td>\n",
       "      <td>53.443600</td>\n",
       "      <td>125325600.0</td>\n",
       "      <td>756446016</td>\n",
       "    </tr>\n",
       "    <tr>\n",
       "      <th>2</th>\n",
       "      <td>2017-11-13</td>\n",
       "      <td>54.035000</td>\n",
       "      <td>54.292500</td>\n",
       "      <td>53.002499</td>\n",
       "      <td>53.157501</td>\n",
       "      <td>52.575703</td>\n",
       "      <td>58237600.0</td>\n",
       "      <td>746227968</td>\n",
       "    </tr>\n",
       "    <tr>\n",
       "      <th>3</th>\n",
       "      <td>2017-11-14</td>\n",
       "      <td>53.250000</td>\n",
       "      <td>53.700001</td>\n",
       "      <td>52.807499</td>\n",
       "      <td>53.544998</td>\n",
       "      <td>52.958961</td>\n",
       "      <td>52929200.0</td>\n",
       "      <td>1466060032</td>\n",
       "    </tr>\n",
       "    <tr>\n",
       "      <th>4</th>\n",
       "      <td>2017-11-15</td>\n",
       "      <td>52.987499</td>\n",
       "      <td>53.000000</td>\n",
       "      <td>51.950001</td>\n",
       "      <td>52.494999</td>\n",
       "      <td>51.920467</td>\n",
       "      <td>50194800.0</td>\n",
       "      <td>767884032</td>\n",
       "    </tr>\n",
       "  </tbody>\n",
       "</table>\n",
       "</div>"
      ],
      "text/plain": [
       "         Date       Open       High        Low      Close  Adj Close  \\\n",
       "0  2017-11-09  51.317501  51.582500  50.092499  51.330002  50.768211   \n",
       "1  2017-11-10  53.270000  54.667500  52.907501  54.035000  53.443600   \n",
       "2  2017-11-13  54.035000  54.292500  53.002499  53.157501  52.575703   \n",
       "3  2017-11-14  53.250000  53.700001  52.807499  53.544998  52.958961   \n",
       "4  2017-11-15  52.987499  53.000000  51.950001  52.494999  51.920467   \n",
       "\n",
       "        Volume  Tether_Volume  \n",
       "0   97856400.0      358188000  \n",
       "1  125325600.0      756446016  \n",
       "2   58237600.0      746227968  \n",
       "3   52929200.0     1466060032  \n",
       "4   50194800.0      767884032  "
      ]
     },
     "execution_count": 126,
     "metadata": {},
     "output_type": "execute_result"
    }
   ],
   "source": [
    "df_merged.head()"
   ]
  },
  {
   "cell_type": "markdown",
   "id": "567072c9",
   "metadata": {},
   "source": [
    "The main study I would like to carry out in my analysis relates to the liquidity. In fact, liquidity represents one of the major benefits tokenization would bring. \n",
    "\n",
    "### 2. Computing the Price Impact"
   ]
  },
  {
   "cell_type": "code",
   "execution_count": 145,
   "id": "f23606c3",
   "metadata": {},
   "outputs": [],
   "source": [
    "perc_price_change = df_merged[\"Close\"].pct_change()* 100\n",
    "perc_vol_change = df_merged[\"Volume\"].pct_change()* 100\n",
    "df_merged[\"Price_Impact\"] = perc_price_change / perc_vol_change\n",
    "df_merged[\"Price_Impact\"] = round(df_merged[\"Price_Impact\"],2)\n",
    "df_merged.dropna(inplace=True)"
   ]
  },
  {
   "cell_type": "code",
   "execution_count": 146,
   "id": "4e9c94e9-c971-4c06-b09a-593ac34ae719",
   "metadata": {},
   "outputs": [
    {
     "data": {
      "text/plain": [
       "4       0.38\n",
       "5      -0.06\n",
       "6      -0.01\n",
       "7      -0.06\n",
       "8       1.18\n",
       "        ... \n",
       "1137    0.98\n",
       "1138    0.08\n",
       "1139   -0.13\n",
       "1140   -0.09\n",
       "1141    0.55\n",
       "Name: Price_Impact, Length: 1138, dtype: float64"
      ]
     },
     "execution_count": 146,
     "metadata": {},
     "output_type": "execute_result"
    }
   ],
   "source": [
    "df_merged[\"Price_Impact\"] "
   ]
  },
  {
   "cell_type": "code",
   "execution_count": 147,
   "id": "598d819f",
   "metadata": {},
   "outputs": [
    {
     "name": "stdout",
     "output_type": "stream",
     "text": [
      "The average price impact is: -0.20543936731107207\n"
     ]
    }
   ],
   "source": [
    "average_price_impact = df_merged[\"Price_Impact\"].mean()\n",
    "print(f\"The average price impact is: {average_price_impact}\")"
   ]
  },
  {
   "cell_type": "markdown",
   "id": "f1380391",
   "metadata": {},
   "source": [
    "### 3. Computing the Bid-Ask Spread"
   ]
  },
  {
   "cell_type": "code",
   "execution_count": 148,
   "id": "aced7025",
   "metadata": {},
   "outputs": [],
   "source": [
    "df_merged['Mid_Price'] = (df_merged['High'] + df_merged['Low']) / 2\n",
    "\n",
    "df_merged['Spread'] = ((df_merged['High'] - df_merged['Low']) / (2 * df_merged['Mid_Price'])) * 100"
   ]
  },
  {
   "cell_type": "code",
   "execution_count": 149,
   "id": "d06b0abd",
   "metadata": {},
   "outputs": [
    {
     "name": "stdout",
     "output_type": "stream",
     "text": [
      "The average bid-ask spread percentage is: 1.8231749070554248\n"
     ]
    }
   ],
   "source": [
    "avg_spread_perc = df_merged['Spread'].mean()\n",
    "print(f'The average bid-ask spread percentage is: {avg_spread_perc}')"
   ]
  },
  {
   "cell_type": "markdown",
   "id": "77d28b18",
   "metadata": {},
   "source": [
    "### 4. Forecasting 1: Training the Linear Regression model"
   ]
  },
  {
   "cell_type": "markdown",
   "id": "265b56ca",
   "metadata": {},
   "source": [
    "Linear regression with price impact as dependent variable "
   ]
  },
  {
   "cell_type": "code",
   "execution_count": 150,
   "id": "7c597ee4",
   "metadata": {},
   "outputs": [
    {
     "name": "stdout",
     "output_type": "stream",
     "text": [
      "Training Set:\n",
      "Mean Squared Error: 2.1107383130649673\n",
      "R-squared: 0.027008138927724024\n",
      "\n",
      "Test Set:\n",
      "Mean Squared Error: 37.963488951201214\n",
      "R-squared: 0.004858646065350358\n"
     ]
    }
   ],
   "source": [
    "# forecast how the tokenization process may impact the liquidity of securities based on the relationship \n",
    "# between tokenization and liquidity in non-tokenized securities\n",
    "X = df_merged[['High', 'Low', 'Close', 'Open', 'Volume', 'Tether_Volume']]\n",
    "y = df_merged['Price_Impact']\n",
    "\n",
    "X_train, X_test, y_train, y_test = train_test_split(X, y, test_size=0.5, random_state=42) # training and test sets\n",
    "\n",
    "model = LinearRegression()\n",
    "model.fit(X_train, y_train)\n",
    "\n",
    "y_train_pred = model.predict(X_train)\n",
    "y_test_pred = model.predict(X_test)\n",
    "\n",
    "mse_train = mean_squared_error(y_train, y_train_pred)\n",
    "r2_train = r2_score(y_train, y_train_pred)\n",
    "mse_test = mean_squared_error(y_test, y_test_pred)\n",
    "r2_test = r2_score(y_test, y_test_pred)\n",
    "\n",
    "print(\"Training Set:\")\n",
    "print(f\"Mean Squared Error: {mse_train}\")\n",
    "print(f\"R-squared: {r2_train}\")\n",
    "\n",
    "print(\"\\nTest Set:\")\n",
    "print(f\"Mean Squared Error: {mse_test}\")\n",
    "print(f\"R-squared: {r2_test}\")"
   ]
  },
  {
   "cell_type": "markdown",
   "id": "21a72156",
   "metadata": {},
   "source": [
    "Linear regression with bid-ask spread as dependent variable"
   ]
  },
  {
   "cell_type": "code",
   "execution_count": 45,
   "id": "c7360eb9",
   "metadata": {},
   "outputs": [
    {
     "name": "stdout",
     "output_type": "stream",
     "text": [
      "Training Set:\n",
      "Mean Squared Error: 0.24701628909865098\n",
      "R-squared: 0.7868287216688437\n",
      "\n",
      "Test Set:\n",
      "Mean Squared Error: 0.3031623952980826\n",
      "R-squared: 0.7175457041920794\n",
      "\n",
      "Coefficient of Tether_Volume: 5.136474579003902e-12\n"
     ]
    }
   ],
   "source": [
    "# forecast how the tokenization process may impact the liquidity of securities based on the relationship \n",
    "# between tokenization and liquidity in non-tokenized securities\n",
    "X = df_merged[['High', 'Low', 'Close', 'Open', 'Volume', 'Tether_Volume']]\n",
    "y = df_merged['Spread']\n",
    "\n",
    "X_train, X_test, y_train, y_test = train_test_split(X, y, test_size=0.5, random_state=42) # training and testing sets\n",
    "\n",
    "model = LinearRegression()\n",
    "model.fit(X_train, y_train)\n",
    "\n",
    "y_train_pred = model.predict(X_train)\n",
    "y_test_pred = model.predict(X_test)\n",
    "\n",
    "mse_train = mean_squared_error(y_train, y_train_pred)\n",
    "r2_train = r2_score(y_train, y_train_pred)\n",
    "mse_test = mean_squared_error(y_test, y_test_pred)\n",
    "r2_test = r2_score(y_test, y_test_pred)\n",
    "\n",
    "coefficient = model.coef_[X.columns.get_loc('Tether_Volume')] \n",
    "# the coefficient is needed to infer a positive (or negative) effect on liquidity\n",
    "\n",
    "print(\"Training Set:\")\n",
    "print(f\"Mean Squared Error: {mse_train}\")\n",
    "print(f\"R-squared: {r2_train}\")\n",
    "\n",
    "print(\"\\nTest Set:\")\n",
    "print(f\"Mean Squared Error: {mse_test}\")\n",
    "print(f\"R-squared: {r2_test}\")\n",
    "\n",
    "print(f\"\\nCoefficient of Tether_Volume: {coefficient}\")"
   ]
  },
  {
   "cell_type": "code",
   "execution_count": 46,
   "id": "9cb3bbd6",
   "metadata": {},
   "outputs": [
    {
     "name": "stdout",
     "output_type": "stream",
     "text": [
      "const            3.018028e-63\n",
      "High             4.116044e-69\n",
      "Low              2.279467e-95\n",
      "Close            1.523293e-01\n",
      "Open             7.437366e-03\n",
      "Volume           4.290328e-83\n",
      "Tether_Volume    6.397343e-09\n",
      "dtype: float64\n"
     ]
    }
   ],
   "source": [
    "# p-values\n",
    "model = LinearRegression().fit(X, y)\n",
    "\n",
    "X = sm.add_constant(X)\n",
    "\n",
    "model_sm = sm.OLS(y, X).fit()\n",
    "\n",
    "p_values = model_sm.pvalues\n",
    "print(p_values)"
   ]
  },
  {
   "cell_type": "code",
   "execution_count": 47,
   "id": "e2b39470",
   "metadata": {},
   "outputs": [
    {
     "name": "stdout",
     "output_type": "stream",
     "text": [
      "6.397342918859562e-09\n",
      "Is the coefficient statistically significant? True\n"
     ]
    },
    {
     "name": "stderr",
     "output_type": "stream",
     "text": [
      "/var/folders/mp/185tqzt15qd296cn272z83vh0000gp/T/ipykernel_18355/3841785768.py:1: FutureWarning: Series.__getitem__ treating keys as positions is deprecated. In a future version, integer keys will always be treated as labels (consistent with DataFrame behavior). To access a value by position, use `ser.iloc[pos]`\n",
      "  print(p_values[6])\n",
      "/var/folders/mp/185tqzt15qd296cn272z83vh0000gp/T/ipykernel_18355/3841785768.py:2: FutureWarning: Series.__getitem__ treating keys as positions is deprecated. In a future version, integer keys will always be treated as labels (consistent with DataFrame behavior). To access a value by position, use `ser.iloc[pos]`\n",
      "  print(f\"Is the coefficient statistically significant? {p_values[1] < 0.05}\")\n"
     ]
    }
   ],
   "source": [
    "print(p_values[6])\n",
    "print(f\"Is the coefficient statistically significant? {p_values[1] < 0.05}\")"
   ]
  },
  {
   "cell_type": "code",
   "execution_count": 48,
   "id": "51c5bcf4",
   "metadata": {},
   "outputs": [
    {
     "data": {
      "text/plain": [
       "High             4.116044e-69\n",
       "Low              2.279467e-95\n",
       "Close            1.523293e-01\n",
       "Open             7.437366e-03\n",
       "Volume           4.290328e-83\n",
       "Tether_Volume    6.397343e-09\n",
       "dtype: float64"
      ]
     },
     "execution_count": 48,
     "metadata": {},
     "output_type": "execute_result"
    }
   ],
   "source": [
    "p_values[1:7]"
   ]
  },
  {
   "cell_type": "code",
   "execution_count": 49,
   "id": "03c89652",
   "metadata": {},
   "outputs": [
    {
     "name": "stdout",
     "output_type": "stream",
     "text": [
      "+---------------+---------------+-----------------------------+\n",
      "| Variable      |   Coefficient | Statistically Significant   |\n",
      "+===============+===============+=============================+\n",
      "| High          |   4.11604e-69 | True                        |\n",
      "+---------------+---------------+-----------------------------+\n",
      "| Low           |   2.27947e-95 | True                        |\n",
      "+---------------+---------------+-----------------------------+\n",
      "| Close         |   0.152329    | False                       |\n",
      "+---------------+---------------+-----------------------------+\n",
      "| Open          |   0.00743737  | True                        |\n",
      "+---------------+---------------+-----------------------------+\n",
      "| Volume        |   4.29033e-83 | True                        |\n",
      "+---------------+---------------+-----------------------------+\n",
      "| Tether_Volume |   6.39734e-09 | True                        |\n",
      "+---------------+---------------+-----------------------------+\n"
     ]
    },
    {
     "name": "stderr",
     "output_type": "stream",
     "text": [
      "/var/folders/mp/185tqzt15qd296cn272z83vh0000gp/T/ipykernel_18355/1471000560.py:4: FutureWarning: Series.__getitem__ treating keys as positions is deprecated. In a future version, integer keys will always be treated as labels (consistent with DataFrame behavior). To access a value by position, use `ser.iloc[pos]`\n",
      "  table = [[var_name, p_values[i+1], significance[i+1]] for i, var_name in enumerate(['High', 'Low', 'Close', 'Open', 'Volume', 'Tether_Volume'])]\n"
     ]
    }
   ],
   "source": [
    "#table = [['High', 'Low', 'Close', 'Open', 'Volume', 'Tether_Volume', p_values, True if p_values[1] < 0.05 else False]]\n",
    "significance = [True if p < 0.05 else False for p in p_values]\n",
    "#table = [['High', 'Low', 'Close', 'Open', 'Volume', 'Tether_Volume', p_values[i], significance[i]] for i in range(1,7)]\n",
    "table = [[var_name, p_values[i+1], significance[i+1]] for i, var_name in enumerate(['High', 'Low', 'Close', 'Open', 'Volume', 'Tether_Volume'])]\n",
    "headers = [\"Variable\", \"Coefficient\", \"Statistically Significant\"]\n",
    "print(tabulate(table, headers=headers, tablefmt=\"grid\"))"
   ]
  },
  {
   "cell_type": "markdown",
   "id": "6eed4fc6",
   "metadata": {},
   "source": [
    "The coefficient is positive, thus it indicates a strong relationship between the independent variables and the dependent variable. We also see that the p-value for the coefficient \"Tether_Volume\", which is a proxy for tokenization is statistically significant, holding other variables constant. Thus, this conferms our initial hypothesis, suggesting that tokenization has a positive impact on liquidity. In essence it means that, as tokenization increases, liquidity tends to improve."
   ]
  },
  {
   "cell_type": "code",
   "execution_count": 50,
   "id": "4c09b60a",
   "metadata": {},
   "outputs": [
    {
     "name": "stdout",
     "output_type": "stream",
     "text": [
      "                   sum_sq     df           F        PR(>F)\n",
      "High            44.716387    1.0  178.802940  1.303012e-35\n",
      "Low             69.175272    1.0  276.604232  8.075288e-51\n",
      "Close            0.623897    1.0    2.494715  1.147907e-01\n",
      "Open             0.529577    1.0    2.117568  1.461749e-01\n",
      "Volume          67.566758    1.0  270.172428  7.090787e-50\n",
      "Tether_Volume    2.843603    1.0   11.370431  7.974503e-04\n",
      "Residual       140.799285  563.0         NaN           NaN\n",
      "+---------------+------+------------+-----------+---------------+\n",
      "| Variable      |   DF |     Sum Sq |         F |        PR(>F) |\n",
      "+===============+======+============+===========+===============+\n",
      "| High          |    1 |  44.7164   | 178.803   |   1.30301e-35 |\n",
      "+---------------+------+------------+-----------+---------------+\n",
      "| Low           |    1 |  69.1753   | 276.604   |   8.07529e-51 |\n",
      "+---------------+------+------------+-----------+---------------+\n",
      "| Close         |    1 |   0.623897 |   2.49472 |   0.114791    |\n",
      "+---------------+------+------------+-----------+---------------+\n",
      "| Open          |    1 |   0.529577 |   2.11757 |   0.146175    |\n",
      "+---------------+------+------------+-----------+---------------+\n",
      "| Volume        |    1 |  67.5668   | 270.172   |   7.09079e-50 |\n",
      "+---------------+------+------------+-----------+---------------+\n",
      "| Tether_Volume |    1 |   2.8436   |  11.3704  |   0.00079745  |\n",
      "+---------------+------+------------+-----------+---------------+\n",
      "| Residual      |  563 | 140.799    | nan       | nan           |\n",
      "+---------------+------+------------+-----------+---------------+\n"
     ]
    },
    {
     "name": "stderr",
     "output_type": "stream",
     "text": [
      "/var/folders/mp/185tqzt15qd296cn272z83vh0000gp/T/ipykernel_18355/4175712308.py:13: FutureWarning: Series.__getitem__ treating keys as positions is deprecated. In a future version, integer keys will always be treated as labels (consistent with DataFrame behavior). To access a value by position, use `ser.iloc[pos]`\n",
      "  anova_results = [[anova_table.index[i], int(anova_table[\"df\"][i]),\n",
      "/var/folders/mp/185tqzt15qd296cn272z83vh0000gp/T/ipykernel_18355/4175712308.py:14: FutureWarning: Series.__getitem__ treating keys as positions is deprecated. In a future version, integer keys will always be treated as labels (consistent with DataFrame behavior). To access a value by position, use `ser.iloc[pos]`\n",
      "  anova_table[\"sum_sq\"][i], anova_table[\"F\"][i],\n",
      "/var/folders/mp/185tqzt15qd296cn272z83vh0000gp/T/ipykernel_18355/4175712308.py:15: FutureWarning: Series.__getitem__ treating keys as positions is deprecated. In a future version, integer keys will always be treated as labels (consistent with DataFrame behavior). To access a value by position, use `ser.iloc[pos]`\n",
      "  anova_table[\"PR(>F)\"][i]] for i in range(len(anova_table))]\n"
     ]
    }
   ],
   "source": [
    "# ANOVA train set\n",
    "import statsmodels.api as sm\n",
    "from statsmodels.formula.api import ols\n",
    "\n",
    "train_data = pd.concat([X_train, y_train], axis=1)\n",
    "\n",
    "model = ols('Spread ~ High + Low + Close + Open + Volume + Tether_Volume', data=train_data).fit()\n",
    "\n",
    "anova_table = sm.stats.anova_lm(model, typ=2)\n",
    "print(anova_table)\n",
    "\n",
    "headers = [\"Variable\", \"DF\", \"Sum Sq\", \"F\", \"PR(>F)\"]\n",
    "anova_results = [[anova_table.index[i], int(anova_table[\"df\"][i]), \n",
    "                  anova_table[\"sum_sq\"][i], anova_table[\"F\"][i], \n",
    "                  anova_table[\"PR(>F)\"][i]] for i in range(len(anova_table))]\n",
    "\n",
    "\n",
    "print(tabulate(anova_results, headers=headers, tablefmt=\"grid\"))"
   ]
  },
  {
   "cell_type": "code",
   "execution_count": 84,
   "id": "f0f27615",
   "metadata": {},
   "outputs": [
    {
     "name": "stdout",
     "output_type": "stream",
     "text": [
      "                   sum_sq     df           F        PR(>F)\n",
      "High            53.145917    1.0  180.453124  6.824192e-36\n",
      "Low             72.260007    1.0  245.353636  3.541890e-46\n",
      "Close            0.083853    1.0    0.284717  5.938361e-01\n",
      "Open             1.317950    1.0    4.475004  3.483189e-02\n",
      "Volume          52.897378    1.0  179.609228  9.412848e-36\n",
      "Tether_Volume    6.911924    1.0   23.468940  1.642516e-06\n",
      "Residual       166.105727  564.0         NaN           NaN\n",
      "+---------------+------+-------------+------------+---------------+\n",
      "| Variable      |   DF |      Sum Sq |          F |        PR(>F) |\n",
      "+===============+======+=============+============+===============+\n",
      "| High          |    1 |  53.1459    | 180.453    |   6.82419e-36 |\n",
      "+---------------+------+-------------+------------+---------------+\n",
      "| Low           |    1 |  72.26      | 245.354    |   3.54189e-46 |\n",
      "+---------------+------+-------------+------------+---------------+\n",
      "| Close         |    1 |   0.0838531 |   0.284717 |   0.593836    |\n",
      "+---------------+------+-------------+------------+---------------+\n",
      "| Open          |    1 |   1.31795   |   4.475    |   0.0348319   |\n",
      "+---------------+------+-------------+------------+---------------+\n",
      "| Volume        |    1 |  52.8974    | 179.609    |   9.41285e-36 |\n",
      "+---------------+------+-------------+------------+---------------+\n",
      "| Tether_Volume |    1 |   6.91192   |  23.4689   |   1.64252e-06 |\n",
      "+---------------+------+-------------+------------+---------------+\n",
      "| Residual      |  564 | 166.106     | nan        | nan           |\n",
      "+---------------+------+-------------+------------+---------------+\n"
     ]
    },
    {
     "name": "stderr",
     "output_type": "stream",
     "text": [
      "/var/folders/mp/185tqzt15qd296cn272z83vh0000gp/T/ipykernel_19310/1570028827.py:9: FutureWarning: Series.__getitem__ treating keys as positions is deprecated. In a future version, integer keys will always be treated as labels (consistent with DataFrame behavior). To access a value by position, use `ser.iloc[pos]`\n",
      "  anova_results_test = [[anova_table_test.index[i], int(anova_table_test[\"df\"][i]),\n",
      "/var/folders/mp/185tqzt15qd296cn272z83vh0000gp/T/ipykernel_19310/1570028827.py:10: FutureWarning: Series.__getitem__ treating keys as positions is deprecated. In a future version, integer keys will always be treated as labels (consistent with DataFrame behavior). To access a value by position, use `ser.iloc[pos]`\n",
      "  anova_table_test[\"sum_sq\"][i], anova_table_test[\"F\"][i],\n",
      "/var/folders/mp/185tqzt15qd296cn272z83vh0000gp/T/ipykernel_19310/1570028827.py:11: FutureWarning: Series.__getitem__ treating keys as positions is deprecated. In a future version, integer keys will always be treated as labels (consistent with DataFrame behavior). To access a value by position, use `ser.iloc[pos]`\n",
      "  anova_table_test[\"PR(>F)\"][i]] for i in range(len(anova_table_test))]\n"
     ]
    }
   ],
   "source": [
    "# ANOVA test set\n",
    "test_data = pd.concat([X_test, y_test], axis=1)\n",
    "\n",
    "test_model = ols('Spread ~ High + Low + Close + Open + Volume + Tether_Volume', data=test_data).fit()\n",
    "\n",
    "anova_table_test = sm.stats.anova_lm(test_model, typ=2)\n",
    "print(anova_table_test)\n",
    "\n",
    "anova_results_test = [[anova_table_test.index[i], int(anova_table_test[\"df\"][i]), \n",
    "                       anova_table_test[\"sum_sq\"][i], anova_table_test[\"F\"][i], \n",
    "                       anova_table_test[\"PR(>F)\"][i]] for i in range(len(anova_table_test))]\n",
    "\n",
    "print(tabulate(anova_results_test, headers=headers, tablefmt=\"grid\"))"
   ]
  },
  {
   "cell_type": "markdown",
   "id": "9eb5fb2a",
   "metadata": {},
   "source": [
    "Let's implement the Gradient Boosting model and the Random Forest model.\n",
    "\n",
    "### 5. Forecasting 2: Training the Gradient Boosting model "
   ]
  },
  {
   "cell_type": "code",
   "execution_count": 125,
   "id": "350b6110",
   "metadata": {},
   "outputs": [
    {
     "name": "stdout",
     "output_type": "stream",
     "text": [
      "Mean Squared Error (Gradient Boosting - Train): 0.20251175763699705\n",
      "R-squared (Gradient Boosting - Train): 0.8274530696786015 \n",
      "\n",
      "Mean Squared Error (Gradient Boosting - Test): 0.36768192450855625\n",
      "R-squared (Gradient Boosting - Test): 0.5846348881866497\n",
      "\n",
      "Feature Importance: [0.06782666 0.10834925 0.02968709 0.05373858 0.60963408 0.13076435]\n",
      "+---------------+--------------+\n",
      "| Feature       |   Importance |\n",
      "+===============+==============+\n",
      "| High          |    0.0678267 |\n",
      "+---------------+--------------+\n",
      "| Low           |    0.108349  |\n",
      "+---------------+--------------+\n",
      "| Close         |    0.0296871 |\n",
      "+---------------+--------------+\n",
      "| Open          |    0.0537386 |\n",
      "+---------------+--------------+\n",
      "| Volume        |    0.609634  |\n",
      "+---------------+--------------+\n",
      "| Tether_Volume |    0.130764  |\n",
      "+---------------+--------------+\n"
     ]
    }
   ],
   "source": [
    "X = df_merged[['High', 'Low', 'Close', 'Open', 'Volume', 'Tether_Volume']]\n",
    "y = df_merged['Spread']\n",
    "\n",
    "X_train, X_test, y_train, y_test = train_test_split(X, y, test_size=0.2, random_state=42)\n",
    "\n",
    "gb_model = GradientBoostingRegressor()\n",
    "gb_model.fit(X_train, y_train)\n",
    "\n",
    "y_pred_train_gb = gb_model.predict(X_train)\n",
    "y_pred_gb = gb_model.predict(X_test)\n",
    "\n",
    "mse_train_gb = mean_squared_error(y_train, y_pred_train_gb)\n",
    "r2_train_gb = r2_score(y_train, y_pred_train_gb)\n",
    "\n",
    "mse_gb = mean_squared_error(y_test, y_pred_gb)\n",
    "r2_gb = r2_score(y_test, y_pred_gb)\n",
    "\n",
    "feature_importance = gb_model.feature_importances_\n",
    "\n",
    "print(f\"Mean Squared Error (Gradient Boosting - Train): {mse_train_gb}\")\n",
    "print(f\"R-squared (Gradient Boosting - Train): {r2_train_gb} \\n\")\n",
    "\n",
    "print(f\"Mean Squared Error (Gradient Boosting - Test): {mse_gb}\")\n",
    "print(f\"R-squared (Gradient Boosting - Test): {r2_gb}\\n\")\n",
    "\n",
    "print(f\"Feature Importance: {feature_importance}\")\n",
    "\n",
    "# creating a table below\n",
    "features = df_merged[['High', 'Low', 'Close', 'Open', 'Volume', 'Tether_Volume']]\n",
    "table_data = zip(features, feature_importance)\n",
    "table = tabulate(table_data, headers=['Feature', 'Importance'], tablefmt='grid')\n",
    "print(table)"
   ]
  },
  {
   "cell_type": "code",
   "execution_count": 86,
   "id": "2331ecda",
   "metadata": {},
   "outputs": [
    {
     "data": {
      "image/png": "[encoded data removed]",
      "text/plain": [
       "<Figure size 1200x600 with 1 Axes>"
      ]
     },
     "metadata": {},
     "output_type": "display_data"
    }
   ],
   "source": [
    "sorted_indices = feature_importance.argsort()[::-1]\n",
    "sorted_features = features.columns[sorted_indices]\n",
    "sorted_importance = feature_importance[sorted_indices]\n",
    "\n",
    "\n",
    "plt.figure(figsize=(12, 6))\n",
    "bars = plt.bar(range(len(sorted_features)), sorted_importance, align='center')\n",
    "plt.xticks(range(len(sorted_features)), sorted_features, rotation=45, ha='right')\n",
    "plt.xlabel('Independent variable')\n",
    "plt.ylabel('Feature importance - Gradient Boosting')\n",
    "plt.tight_layout()\n",
    "\n",
    "for i, bar in enumerate(bars):\n",
    "    plt.text(bar.get_x() + bar.get_width()/2, bar.get_height() + 0.005, f'{sorted_importance[i]*100:.2f}%', ha='center', va='bottom')\n",
    "\n",
    "plt.show()"
   ]
  },
  {
   "cell_type": "markdown",
   "id": "d8549379",
   "metadata": {},
   "source": [
    "Higher values indicate more important features.\n",
    "We can see the two most important are Volume and Tether Volume.\n",
    "\n",
    "'Volume' (of non-tokenized securities) plays a significant role in determining liquidity. 'Tether_Volume' (of tokenized assets) also adds to the predictive power of the model even though it's the second best."
   ]
  },
  {
   "cell_type": "markdown",
   "id": "99a990e3",
   "metadata": {},
   "source": [
    "### 6. Forecasting 3: Training the Random Forest model"
   ]
  },
  {
   "cell_type": "code",
   "execution_count": 101,
   "id": "44cb600e",
   "metadata": {},
   "outputs": [
    {
     "name": "stdout",
     "output_type": "stream",
     "text": [
      "Mean Squared Error (Random Forest - Training): 0.07013230864758822\n",
      "R-squared (Random Forest - Training): 0.9402448790396383\n",
      "\n",
      "Mean Squared Error (Random Forest): 0.4064746801669169\n",
      "R-squared (Random Forest): 0.5408112563529124\n",
      "\n",
      "[0.07104049 0.067034   0.05072875 0.07262297 0.57700255 0.16157124]\n"
     ]
    }
   ],
   "source": [
    "X = df_merged[['High', 'Low', 'Close', 'Open', 'Volume', 'Tether_Volume']]\n",
    "y = df_merged['Spread']\n",
    "\n",
    "X_train, X_test, y_train, y_test = train_test_split(X, y, test_size=0.2, random_state=42)\n",
    "\n",
    "rf_model = RandomForestRegressor()\n",
    "rf_model.fit(X_train, y_train)\n",
    "\n",
    "y_pred_rf = rf_model.predict(X_test)\n",
    "y_pred_rf_train = rf_model.predict(X_train)\n",
    "\n",
    "mse_rf_train = mean_squared_error(y_train, y_pred_rf_train)\n",
    "r2_rf_train = r2_score(y_train, y_pred_rf_train)\n",
    "\n",
    "mse_rf = mean_squared_error(y_test, y_pred_rf)\n",
    "r2_rf = r2_score(y_test, y_pred_rf)\n",
    "\n",
    "feature_importance = rf_model.feature_importances_\n",
    "\n",
    "print(f\"Mean Squared Error (Random Forest - Training): {mse_rf_train}\")\n",
    "print(f\"R-squared (Random Forest - Training): {r2_rf_train}\\n\")\n",
    "\n",
    "print(f\"Mean Squared Error (Random Forest): {mse_rf}\")\n",
    "print(f\"R-squared (Random Forest): {r2_rf}\\n\")\n",
    "print(feature_importance)"
   ]
  },
  {
   "cell_type": "code",
   "execution_count": 61,
   "id": "adb3a36a",
   "metadata": {},
   "outputs": [
    {
     "name": "stdout",
     "output_type": "stream",
     "text": [
      "Importance of Tether_Volume (Random Forest): 0.16210486667661064\n"
     ]
    }
   ],
   "source": [
    "# the Tether volume feature is the last one so -1\n",
    "tether_volume_importance_rf = rf_model.feature_importances_[-1]\n",
    "\n",
    "print(f\"Importance of Tether_Volume (Random Forest): {tether_volume_importance_rf}\")"
   ]
  },
  {
   "cell_type": "code",
   "execution_count": 64,
   "id": "36fc196b",
   "metadata": {},
   "outputs": [
    {
     "name": "stdout",
     "output_type": "stream",
     "text": [
      "+---------------+--------------+\n",
      "| Feature       |   Importance |\n",
      "+===============+==============+\n",
      "| High          |    0.0649364 |\n",
      "+---------------+--------------+\n",
      "| Low           |    0.0759916 |\n",
      "+---------------+--------------+\n",
      "| Close         |    0.0586315 |\n",
      "+---------------+--------------+\n",
      "| Open          |    0.0730082 |\n",
      "+---------------+--------------+\n",
      "| Volume        |    0.565327  |\n",
      "+---------------+--------------+\n",
      "| Tether_Volume |    0.162105  |\n",
      "+---------------+--------------+\n"
     ]
    }
   ],
   "source": [
    "features = df_merged[['High', 'Low', 'Close', 'Open', 'Volume', 'Tether_Volume']]\n",
    "table_data = zip(features, feature_importance)\n",
    "table = tabulate(table_data, headers=['Feature', 'Importance'], tablefmt='grid')\n",
    "print(table)"
   ]
  },
  {
   "cell_type": "code",
   "execution_count": 63,
   "id": "4e4ff35e",
   "metadata": {},
   "outputs": [
    {
     "data": {
      "image/png": "[encoded data removed]",
      "text/plain": [
       "<Figure size 1200x600 with 1 Axes>"
      ]
     },
     "metadata": {},
     "output_type": "display_data"
    }
   ],
   "source": [
    "sorted_indices = feature_importance.argsort()[::-1]\n",
    "sorted_features = features.columns[sorted_indices]\n",
    "sorted_importance = feature_importance[sorted_indices]\n",
    "\n",
    "plt.figure(figsize=(12, 6))\n",
    "bars = plt.bar(range(len(sorted_features)), sorted_importance, align='center')\n",
    "plt.xticks(range(len(sorted_features)), sorted_features, rotation=45, ha='right')\n",
    "plt.xlabel('Independent variable')\n",
    "plt.ylabel('Feature importance - Random Forest')\n",
    "plt.tight_layout()\n",
    "\n",
    "for i, bar in enumerate(bars):\n",
    "    plt.text(bar.get_x() + bar.get_width()/2, bar.get_height() + 0.005, f'{sorted_importance[i]*100:.2f}%', ha='center', va='bottom')\n",
    "\n",
    "plt.show()"
   ]
  },
  {
   "cell_type": "markdown",
   "id": "5903ea65",
   "metadata": {},
   "source": [
    "### 7. Comparing the 3 models"
   ]
  },
  {
   "cell_type": "code",
   "execution_count": 126,
   "id": "da2ff1a3",
   "metadata": {},
   "outputs": [
    {
     "data": {
      "text/plain": [
       "{'Model': ['Linear Regression', 'Gradient Boosting', 'Random Forest'],\n",
       " 'R-squared Training set': [0.7868287216688437,\n",
       "  0.8274530696786015,\n",
       "  0.9402448790396383],\n",
       " 'R-squared Test set': [0.7175457041920794,\n",
       "  0.5846348881866497,\n",
       "  0.5408112563529124],\n",
       " 'MSE Training set': [0.24701628909865098,\n",
       "  0.20251175763699705,\n",
       "  0.07013230864758822],\n",
       " 'MSE Test set': [0.3031623952980826, 0.36768192450855625, 0.4064746801669169]}"
      ]
     },
     "execution_count": 126,
     "metadata": {},
     "output_type": "execute_result"
    }
   ],
   "source": [
    "models = {\n",
    "    'Linear Regression': LinearRegression(),\n",
    "    'Gradient Boosting': GradientBoostingRegressor(),\n",
    "    'Random Forest': RandomForestRegressor()\n",
    "}\n",
    "\n",
    "results = {'Model': [], 'R-squared Training set': [], 'R-squared Test set': [], 'MSE Training set': [], 'MSE Test set': []}\n",
    "\n",
    "\n",
    "for name, model in models.items():\n",
    "    results['Model'].append(name)\n",
    "\n",
    "results['R-squared Training set'].append(r2_train)\n",
    "results['R-squared Training set'].append(r2_train_gb)\n",
    "results['R-squared Training set'].append(r2_rf_train)\n",
    "\n",
    "results['R-squared Test set'].append(r2_test)\n",
    "results['R-squared Test set'].append(r2_gb)\n",
    "results['R-squared Test set'].append(r2_rf)\n",
    "\n",
    "results['MSE Training set'].append(mse_train)\n",
    "results['MSE Training set'].append(mse_train_gb)\n",
    "results['MSE Training set'].append(mse_rf_train)\n",
    "\n",
    "results['MSE Test set'].append(mse_test)\n",
    "results['MSE Test set'].append(mse_gb)\n",
    "results['MSE Test set'].append(mse_rf)\n",
    "\n",
    "results"
   ]
  },
  {
   "cell_type": "code",
   "execution_count": 127,
   "id": "f5e9b7e7",
   "metadata": {},
   "outputs": [],
   "source": [
    "df_results = pd.DataFrame(results)"
   ]
  },
  {
   "cell_type": "code",
   "execution_count": 128,
   "id": "45d9b7fd",
   "metadata": {},
   "outputs": [
    {
     "data": {
      "text/html": [
       "<div>\n",
       "<style scoped>\n",
       "    .dataframe tbody tr th:only-of-type {\n",
       "        vertical-align: middle;\n",
       "    }\n",
       "\n",
       "    .dataframe tbody tr th {\n",
       "        vertical-align: top;\n",
       "    }\n",
       "\n",
       "    .dataframe thead th {\n",
       "        text-align: right;\n",
       "    }\n",
       "</style>\n",
       "<table border=\"1\" class=\"dataframe\">\n",
       "  <thead>\n",
       "    <tr style=\"text-align: right;\">\n",
       "      <th></th>\n",
       "      <th>Model</th>\n",
       "      <th>R-squared Training set</th>\n",
       "      <th>R-squared Test set</th>\n",
       "      <th>MSE Training set</th>\n",
       "      <th>MSE Test set</th>\n",
       "    </tr>\n",
       "  </thead>\n",
       "  <tbody>\n",
       "    <tr>\n",
       "      <th>0</th>\n",
       "      <td>Linear Regression</td>\n",
       "      <td>0.786829</td>\n",
       "      <td>0.717546</td>\n",
       "      <td>0.247016</td>\n",
       "      <td>0.303162</td>\n",
       "    </tr>\n",
       "    <tr>\n",
       "      <th>1</th>\n",
       "      <td>Gradient Boosting</td>\n",
       "      <td>0.827453</td>\n",
       "      <td>0.584635</td>\n",
       "      <td>0.202512</td>\n",
       "      <td>0.367682</td>\n",
       "    </tr>\n",
       "    <tr>\n",
       "      <th>2</th>\n",
       "      <td>Random Forest</td>\n",
       "      <td>0.940245</td>\n",
       "      <td>0.540811</td>\n",
       "      <td>0.070132</td>\n",
       "      <td>0.406475</td>\n",
       "    </tr>\n",
       "  </tbody>\n",
       "</table>\n",
       "</div>"
      ],
      "text/plain": [
       "               Model  R-squared Training set  R-squared Test set  \\\n",
       "0  Linear Regression                0.786829            0.717546   \n",
       "1  Gradient Boosting                0.827453            0.584635   \n",
       "2      Random Forest                0.940245            0.540811   \n",
       "\n",
       "   MSE Training set  MSE Test set  \n",
       "0          0.247016      0.303162  \n",
       "1          0.202512      0.367682  \n",
       "2          0.070132      0.406475  "
      ]
     },
     "execution_count": 128,
     "metadata": {},
     "output_type": "execute_result"
    }
   ],
   "source": [
    "df_results"
   ]
  },
  {
   "cell_type": "code",
   "execution_count": 129,
   "id": "3f17c74e",
   "metadata": {},
   "outputs": [
    {
     "data": {
      "text/plain": [
       "{'Model': ['Linear Regression', 'Gradient Boosting', 'Random Forest'],\n",
       " 'R-squared Training set': [0.5012013305640133,\n",
       "  0.7593691839841015,\n",
       "  0.9363094839163945],\n",
       " 'R-squared Test set': [0.522800086881209,\n",
       "  0.5240258615856356,\n",
       "  0.641839912779303],\n",
       " 'MSE Training set': [0.5572172117820557,\n",
       "  0.26881313160043907,\n",
       "  0.071149852563152],\n",
       " 'MSE Test set': [0.48697777334888026,\n",
       "  0.48572688243339845,\n",
       "  0.3654988129341043]}"
      ]
     },
     "execution_count": 129,
     "metadata": {},
     "output_type": "execute_result"
    }
   ],
   "source": [
    "# trying to reduce overfitting\n",
    "X = df_merged[['Low', 'Volume', 'Tether_Volume']]\n",
    "y = df_merged['Spread']\n",
    "\n",
    "X_train, X_test, y_train, y_test = train_test_split(X, y, test_size=0.01, random_state=42)\n",
    "\n",
    "models = {\n",
    "    'Linear Regression': LinearRegression(),\n",
    "    'Gradient Boosting': GradientBoostingRegressor(),\n",
    "    'Random Forest': RandomForestRegressor()\n",
    "}\n",
    "\n",
    "results = {'Model': [], 'R-squared Training set': [], 'R-squared Test set': [], 'MSE Training set': [], 'MSE Test set': []}\n",
    "\n",
    "for name, model in models.items():\n",
    "    model.fit(X_train, y_train)\n",
    "    y_pred_train = model.predict(X_train)\n",
    "    y_pred = model.predict(X_test)\n",
    "    mse_train = mean_squared_error(y_train, y_pred_train)\n",
    "    mse_test = mean_squared_error(y_test, y_pred)\n",
    "    r2_train = r2_score(y_train, y_pred_train)\n",
    "    r2_test = r2_score(y_test, y_pred)\n",
    "    results['Model'].append(name)\n",
    "    results['R-squared Training set'].append(r2_train)\n",
    "    results['R-squared Test set'].append(r2_test)\n",
    "    results['MSE Training set'].append(mse_train)\n",
    "    results['MSE Test set'].append(mse_test)\n",
    "\n",
    "results"
   ]
  },
  {
   "cell_type": "code",
   "execution_count": 130,
   "id": "a03bc033",
   "metadata": {},
   "outputs": [],
   "source": [
    "df_results = pd.DataFrame(results)"
   ]
  },
  {
   "cell_type": "code",
   "execution_count": 131,
   "id": "4e9bc5f5",
   "metadata": {},
   "outputs": [
    {
     "data": {
      "text/html": [
       "<div>\n",
       "<style scoped>\n",
       "    .dataframe tbody tr th:only-of-type {\n",
       "        vertical-align: middle;\n",
       "    }\n",
       "\n",
       "    .dataframe tbody tr th {\n",
       "        vertical-align: top;\n",
       "    }\n",
       "\n",
       "    .dataframe thead th {\n",
       "        text-align: right;\n",
       "    }\n",
       "</style>\n",
       "<table border=\"1\" class=\"dataframe\">\n",
       "  <thead>\n",
       "    <tr style=\"text-align: right;\">\n",
       "      <th></th>\n",
       "      <th>Model</th>\n",
       "      <th>R-squared Training set</th>\n",
       "      <th>R-squared Test set</th>\n",
       "      <th>MSE Training set</th>\n",
       "      <th>MSE Test set</th>\n",
       "    </tr>\n",
       "  </thead>\n",
       "  <tbody>\n",
       "    <tr>\n",
       "      <th>0</th>\n",
       "      <td>Linear Regression</td>\n",
       "      <td>0.501201</td>\n",
       "      <td>0.522800</td>\n",
       "      <td>0.557217</td>\n",
       "      <td>0.486978</td>\n",
       "    </tr>\n",
       "    <tr>\n",
       "      <th>1</th>\n",
       "      <td>Gradient Boosting</td>\n",
       "      <td>0.759369</td>\n",
       "      <td>0.524026</td>\n",
       "      <td>0.268813</td>\n",
       "      <td>0.485727</td>\n",
       "    </tr>\n",
       "    <tr>\n",
       "      <th>2</th>\n",
       "      <td>Random Forest</td>\n",
       "      <td>0.936309</td>\n",
       "      <td>0.641840</td>\n",
       "      <td>0.071150</td>\n",
       "      <td>0.365499</td>\n",
       "    </tr>\n",
       "  </tbody>\n",
       "</table>\n",
       "</div>"
      ],
      "text/plain": [
       "               Model  R-squared Training set  R-squared Test set  \\\n",
       "0  Linear Regression                0.501201            0.522800   \n",
       "1  Gradient Boosting                0.759369            0.524026   \n",
       "2      Random Forest                0.936309            0.641840   \n",
       "\n",
       "   MSE Training set  MSE Test set  \n",
       "0          0.557217      0.486978  \n",
       "1          0.268813      0.485727  \n",
       "2          0.071150      0.365499  "
      ]
     },
     "execution_count": 131,
     "metadata": {},
     "output_type": "execute_result"
    }
   ],
   "source": [
    "df_results"
   ]
  }
 ],
 "metadata": {
  "kernelspec": {
   "display_name": "Python 3 (ipykernel)",
   "language": "python",
   "name": "python3"
  },
  "language_info": {
   "codemirror_mode": {
    "name": "ipython",
    "version": 3
   },
   "file_extension": ".py",
   "mimetype": "text/x-python",
   "name": "python",
   "nbconvert_exporter": "python",
   "pygments_lexer": "ipython3",
   "version": "3.9.7"
  }
 },
 "nbformat": 4,
 "nbformat_minor": 5
}
